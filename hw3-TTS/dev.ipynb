{
 "cells": [
  {
   "cell_type": "code",
   "execution_count": 1,
   "id": "32c992cf",
   "metadata": {},
   "outputs": [],
   "source": [
    "%load_ext autoreload\n",
    "%autoreload 2"
   ]
  },
  {
   "cell_type": "code",
   "execution_count": 2,
   "id": "36866007",
   "metadata": {},
   "outputs": [],
   "source": [
    "import torch\n",
    "import torch.nn as nn\n",
    "import torchaudio\n",
    "import matplotlib.pyplot as plt\n",
    "\n",
    "from IPython.display import clear_output"
   ]
  },
  {
   "cell_type": "code",
   "execution_count": 3,
   "id": "6375474a",
   "metadata": {},
   "outputs": [],
   "source": [
    "from torch.utils.data import DataLoader\n",
    "from hw_tts.datasets import LJSpeechDataset, collate_fn\n",
    "from hw_tts.melspecs import MelSpectrogram, MelSpectrogramConfig\n",
    "\n",
    "featurizer = MelSpectrogram(MelSpectrogramConfig())\n",
    "\n",
    "DEVICE = torch.device('cuda' if torch.cuda.is_available() else \"cpu\")\n",
    "dataloader = DataLoader(LJSpeechDataset('./hw_tts/data/'), batch_size=4, collate_fn=collate_fn)\n",
    "\n",
    "test_batch = next(iter(dataloader))\n",
    "test_batch[\"melspecs\"] = featurizer(test_batch[\"waveforms\"]).transpose(1, 2)"
   ]
  },
  {
   "cell_type": "code",
   "execution_count": 4,
   "id": "6d1faae5",
   "metadata": {},
   "outputs": [],
   "source": [
    "from hw_tts.aligners import GraphemeAligner\n",
    "\n",
    "aligner = GraphemeAligner(melspec_sr=22050).to(DEVICE)\n",
    "\n",
    "test_batch[\"durations\"] = (aligner(\n",
    "    test_batch[\"waveforms\"].to(DEVICE), test_batch[\"waveforms_lengths\"], test_batch[\"transcripts\"]\n",
    ") * test_batch[\"melspecs\"].shape[-2]).long()"
   ]
  },
  {
   "cell_type": "markdown",
   "id": "1272a635",
   "metadata": {},
   "source": [
    "# Model"
   ]
  },
  {
   "cell_type": "code",
   "execution_count": null,
   "id": "9b9eaf7c",
   "metadata": {},
   "outputs": [],
   "source": [
    "from hw_tts.models import FastSpeech\n",
    "\n",
    "model = FastSpeech(\n",
    "    d_model=384,\n",
    "    n_head=2,\n",
    "    n_tokens=51,\n",
    "    n_encoders=3,\n",
    "    n_decoders=3,\n",
    "    alpha=1.,\n",
    "    melspec_size=80,\n",
    "    kernel_size=3\n",
    ")\n",
    "\n",
    "optimizer = torch.optim.Adam(model.parameters(), lr=0.001)\n",
    "criterion = nn.MSELoss()\n",
    "\n",
    "loss_values = []\n",
    "\n",
    "n_iters = 100\n",
    "for _ in range(n_iters):\n",
    "    mels, durs = model(test_batch)\n",
    "    max_mel_len = min(mels.shape[-2], test_batch[\"melspecs\"].shape[-2])\n",
    "    \n",
    "    loss = criterion(mels[:, :max_mel_len], test_batch[\"melspecs\"][:, :max_mel_len]) + \\\n",
    "        criterion(durs, test_batch[\"durations\"].float())\n",
    "    \n",
    "    optimizer.zero_grad()\n",
    "    loss.backward()\n",
    "    optimizer.step()\n",
    "    \n",
    "    loss_values.append(loss.item())\n",
    "    \n",
    "    clear_output(wait=True)\n",
    "    plt.plot(loss_values)\n",
    "    plt.xlabel(\"iter\")\n",
    "    plt.ylabel(\"loss\")\n",
    "    plt.grid()\n"
   ]
  },
  {
   "cell_type": "code",
   "execution_count": null,
   "id": "4e173bf8",
   "metadata": {},
   "outputs": [],
   "source": []
  }
 ],
 "metadata": {
  "kernelspec": {
   "display_name": "Python 3 (ipykernel)",
   "language": "python",
   "name": "python3"
  },
  "language_info": {
   "codemirror_mode": {
    "name": "ipython",
    "version": 3
   },
   "file_extension": ".py",
   "mimetype": "text/x-python",
   "name": "python",
   "nbconvert_exporter": "python",
   "pygments_lexer": "ipython3",
   "version": "3.9.7"
  }
 },
 "nbformat": 4,
 "nbformat_minor": 5
}
